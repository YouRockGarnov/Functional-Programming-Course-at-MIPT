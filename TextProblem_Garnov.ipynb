{
 "cells": [
  {
   "cell_type": "markdown",
   "metadata": {
    "collapsed": true
   },
   "source": [
    "## Mid-Term Test Problem (15 pts)\n",
    "\n",
    "Напишите код для решения задачи в ячейках ниже и убедитесь, что он работает (выполните его).\n",
    "\n",
    "&gt; **ВАЖНО**: Задание необходимо выполнять самостоятельно, без использования cut-and-paste решений из интернет. В случае одинаковых решений у нескольких учащихся, они не будут рассматриваться, поэтому пишите код самостоятельно, используя интернет лишь как справочное средство.\n",
    "\n",
    "&gt; **Code of Conduct**: Задача данного теста - проверить индивидуальные знания учащегося. Обращаться за советом или за готовым решением к другим учащимся во время теста запрещается. Пожалуйста, следуйте принципам **академической честности**, которые не приемлют списывание, плагиат и несамостоятельное выполнение работ."
   ]
  },
  {
   "cell_type": "markdown",
   "metadata": {},
   "source": [
    "#### Задание 1 (1 pt): Опишите тип данных для представления двоичного дерева "
   ]
  },
  {
   "cell_type": "code",
   "execution_count": 24,
   "metadata": {},
   "outputs": [],
   "source": [
    "type 'a Node = {value: 'a; left:'a Node option; right:'a Node option; count: int}\n",
    "and 'a btree = 'a Node option"
   ]
  },
  {
   "cell_type": "markdown",
   "metadata": {},
   "source": [
    "#### Задание 2 (1 pt): Опишите функцию для добавления строки в двоичное дерево поиска\n",
    "\n",
    "В двоичном дереве поиска для любого узлового элемента $x$ все элементы в левом поддереве меньше $x$, а в правом поддереве --- больше $x$.\n",
    "\n",
    "Если элемент присутствует в дереве -- необходимо считать количество его вхождений в дерево"
   ]
  },
  {
   "cell_type": "code",
   "execution_count": 30,
   "metadata": {},
   "outputs": [],
   "source": [
    "let rec insert x T =  \n",
    "    (match T with\n",
    "    | None -> {value=x; left=None; right=None; count=1;}\n",
    "    | Some t ->\n",
    "        if x > t.value then\n",
    "            {t with right=(insert x t.right)}\n",
    "        elif x < t.value then\n",
    "            {t with left= (insert x t.left)}\n",
    "        else\n",
    "            {t with count=t.count + 1}) |> Some\n",
    "            "
   ]
  },
  {
   "cell_type": "markdown",
   "metadata": {},
   "source": [
    "#### Задание 3 (3 pt): Реализуйте функцию, генерирующую последовательность слов входного текстового файла, игнорируя знаки препинания и пробелы|\n",
    "\n",
    "Испытайте работу функции на файле `akar_en.txt`, который идёт в комплекте с этим заданием. "
   ]
  },
  {
   "cell_type": "code",
   "execution_count": 11,
   "metadata": {},
   "outputs": [
    {
     "data": {
      "text/plain": [
       "seq [\"the\"; \"project\"; \"gutenberg\"; \"ebook\"; ...]"
      ]
     },
     "execution_count": 11,
     "metadata": {},
     "output_type": "execute_result"
    }
   ],
   "source": [
    "open System.IO\n",
    "let read_file fn = File.ReadAllText(fn).Split([|'\\n'; '\\''; '\\\"'; '.'; '?'; ' '; ';'; ':'; '!'; ',';|]) |> Seq.filter (fun s -> s.Length > 1) |> Seq.map(fun str -> str.ToLower())\n",
    "let book = read_file \"akar_en.txt\"\n",
    "book"
   ]
  },
  {
   "cell_type": "markdown",
   "metadata": {},
   "source": [
    "**Задание 4 (1 pt): С использованием дерева поиска, постройте частотный словарь указанного файла**. При построении словаря приведите все слова к нижнему регистру."
   ]
  },
  {
   "cell_type": "code",
   "execution_count": 31,
   "metadata": {},
   "outputs": [],
   "source": [
    "let freq_tree = Seq.fold (fun acc elem -> insert elem acc) None book\n",
    "freq_tree"
   ]
  },
  {
   "cell_type": "markdown",
   "metadata": {},
   "source": [
    "#### Задание 3 (3 pts): Tree-to-Seq\n",
    "\n",
    "Реализуйте функцию, которая возвращает **последовательность** элементов дерева в инфиксном порядке обхода (left-root-right). С помощью этой функции:\n",
    "* найдите слово максимальной длины в рассматриваемом тексте\n",
    "* выведите 10 самых часто встречающихся слов"
   ]
  },
  {
   "cell_type": "code",
   "execution_count": 5,
   "metadata": {},
   "outputs": [],
   "source": [
    "let tree2seq T = seq { yield 0 }"
   ]
  },
  {
   "cell_type": "code",
   "execution_count": 11,
   "metadata": {},
   "outputs": [],
   "source": [
    "// word with max len"
   ]
  },
  {
   "cell_type": "code",
   "execution_count": 12,
   "metadata": {},
   "outputs": [],
   "source": [
    "// top 10 words"
   ]
  },
  {
   "cell_type": "markdown",
   "metadata": {},
   "source": [
    "#### Задание 5 (3 pts): Слово максимальной длины\n",
    "\n",
    "Реализуйте функцию, которая для любого слова из текста возвращает слово максимальной длины из всех слов, предшествующих данному слову по алфавиту. Примените функцию к слову \"anna\" в рассматриваемом тексте. Используйте дерево поиска."
   ]
  },
  {
   "cell_type": "code",
   "execution_count": 12,
   "metadata": {},
   "outputs": [],
   "source": [
    "let maxlenwd word = \"wow\""
   ]
  },
  {
   "cell_type": "markdown",
   "metadata": {},
   "source": [
    "#### Задание 6: Слово максимальной длины - 2 (3 pts)\n",
    "\n",
    "Реализуйте функцию, которая для любого слова из текста возвращает слово максимальной длины из всех слов, которые встречаются в тексте чаще, чем заданное слово. Примените функцию к слову \"anna\" в рассматриваемом тексте."
   ]
  },
  {
   "cell_type": "code",
   "execution_count": 8,
   "metadata": {},
   "outputs": [],
   "source": [
    "let maxlenwd2 word = \"wow\""
   ]
  },
  {
   "cell_type": "markdown",
   "metadata": {},
   "source": [
    "## Сдача результата\n",
    "\n",
    "Для того, чтобы отправить результат на проверку:\n",
    " * Загрузите ноутбук как файл .ipynb\n",
    " * Переименуйте его в `TextProblem_SURNAME.ipynb` (где `SURNAME` - ваша фамилия)\n",
    " * Загрузите результат по ссылке https://forms.gle/C3NKrjdfixEMRx6R9"
   ]
  },
  {
   "cell_type": "code",
   "execution_count": null,
   "metadata": {},
   "outputs": [],
   "source": []
  }
 ],
 "metadata": {
  "kernelspec": {
   "display_name": "F#",
   "language": "fsharp",
   "name": "ifsharp"
  },
  "language": "fsharp",
  "language_info": {
   "codemirror_mode": "",
   "file_extension": ".fs",
   "mimetype": "text/x-fsharp",
   "name": "fsharp",
   "nbconvert_exporter": "",
   "pygments_lexer": "",
   "version": "4.3.1.0"
  }
 },
 "nbformat": 4,
 "nbformat_minor": 2
}
