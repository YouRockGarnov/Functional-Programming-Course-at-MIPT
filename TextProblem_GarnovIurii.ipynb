{
  "cells": [
    {
      "metadata": {
        "collapsed": true
      },
      "cell_type": "markdown",
      "source": "## Mid-Term Test Problem (15 pts)\n\nНапишите код для решения задачи в ячейках ниже и убедитесь, что он работает (выполните его).\n\n&gt; **ВАЖНО**: Задание необходимо выполнять самостоятельно, без использования cut-and-paste решений из интернет. В случае одинаковых решений у нескольких учащихся, они не будут рассматриваться, поэтому пишите код самостоятельно, используя интернет лишь как справочное средство.\n\n&gt; **Code of Conduct**: Задача данного теста - проверить индивидуальные знания учащегося. Обращаться за советом или за готовым решением к другим учащимся во время теста запрещается. Пожалуйста, следуйте принципам **академической честности**, которые не приемлют списывание, плагиат и несамостоятельное выполнение работ."
    },
    {
      "metadata": {},
      "cell_type": "markdown",
      "source": "#### Задание 1 (1 pt): Опишите тип данных для представления двоичного дерева "
    },
    {
      "metadata": {
        "trusted": true
      },
      "cell_type": "code",
      "source": "type 'a Node = {value: 'a; left:'a Node option; right:'a Node option; count: int}\nand 'a btree = 'a Node option",
      "execution_count": 24,
      "outputs": []
    },
    {
      "metadata": {},
      "cell_type": "markdown",
      "source": "#### Задание 2 (1 pt): Опишите функцию для добавления строки в двоичное дерево поиска\n\nВ двоичном дереве поиска для любого узлового элемента $x$ все элементы в левом поддереве меньше $x$, а в правом поддереве --- больше $x$.\n\nЕсли элемент присутствует в дереве -- необходимо считать количество его вхождений в дерево"
    },
    {
      "metadata": {
        "trusted": true
      },
      "cell_type": "code",
      "source": "let rec insert x T =  \n    (match T with\n    | None -> {value=x; left=None; right=None; count=1;}\n    | Some t ->\n        if x > t.value then\n            {t with right=(insert x t.right)}\n        elif x < t.value then\n            {t with left= (insert x t.left)}\n        else\n            {t with count=t.count + 1}) |> Some\n            ",
      "execution_count": 30,
      "outputs": []
    },
    {
      "metadata": {},
      "cell_type": "markdown",
      "source": "#### Задание 3 (3 pt): Реализуйте функцию, генерирующую последовательность слов входного текстового файла, игнорируя знаки препинания и пробелы|\n\nИспытайте работу функции на файле `akar_en.txt`, который идёт в комплекте с этим заданием. "
    },
    {
      "metadata": {
        "trusted": true
      },
      "cell_type": "code",
      "source": "open System.IO\nlet read_file fn = File.ReadAllText(fn).Split([|'\\n'; '\\''; '\\\"'; '.'; '?'; ' '; ';'; ':'; '!'; ',';|]) |> Seq.filter (fun s -> s.Length > 1) |> Seq.map(fun str -> str.ToLower())\nlet book = read_file \"akar_en.txt\"\nbook",
      "execution_count": 11,
      "outputs": [
        {
          "output_type": "execute_result",
          "execution_count": 11,
          "data": {
            "text/plain": "seq [\"the\"; \"project\"; \"gutenberg\"; \"ebook\"; ...]"
          },
          "metadata": {}
        }
      ]
    },
    {
      "metadata": {},
      "cell_type": "markdown",
      "source": "**Задание 4 (1 pt): С использованием дерева поиска, постройте частотный словарь указанного файла**. При построении словаря приведите все слова к нижнему регистру."
    },
    {
      "metadata": {
        "trusted": true
      },
      "cell_type": "code",
      "source": "let freq_tree = Seq.fold (fun acc elem -> insert elem acc) None book\nfreq_tree",
      "execution_count": 31,
      "outputs": []
    },
    {
      "metadata": {},
      "cell_type": "markdown",
      "source": "#### Задание 3 (3 pts): Tree-to-Seq\n\nРеализуйте функцию, которая возвращает **последовательность** элементов дерева в инфиксном порядке обхода (left-root-right). С помощью этой функции:\n* найдите слово максимальной длины в рассматриваемом тексте\n* выведите 10 самых часто встречающихся слов"
    },
    {
      "metadata": {
        "trusted": false
      },
      "cell_type": "code",
      "source": "let tree2seq T = seq { yield 0 }",
      "execution_count": 5,
      "outputs": []
    },
    {
      "metadata": {
        "trusted": true
      },
      "cell_type": "code",
      "source": "// word with max len",
      "execution_count": 11,
      "outputs": []
    },
    {
      "metadata": {
        "trusted": true
      },
      "cell_type": "code",
      "source": "// top 10 words",
      "execution_count": 12,
      "outputs": []
    },
    {
      "metadata": {},
      "cell_type": "markdown",
      "source": "#### Задание 5 (3 pts): Слово максимальной длины\n\nРеализуйте функцию, которая для любого слова из текста возвращает слово максимальной длины из всех слов, предшествующих данному слову по алфавиту. Примените функцию к слову \"anna\" в рассматриваемом тексте. Используйте дерево поиска."
    },
    {
      "metadata": {
        "trusted": false
      },
      "cell_type": "code",
      "source": "let maxlenwd word = \"wow\"",
      "execution_count": 12,
      "outputs": []
    },
    {
      "metadata": {},
      "cell_type": "markdown",
      "source": "#### Задание 6: Слово максимальной длины - 2 (3 pts)\n\nРеализуйте функцию, которая для любого слова из текста возвращает слово максимальной длины из всех слов, которые встречаются в тексте чаще, чем заданное слово. Примените функцию к слову \"anna\" в рассматриваемом тексте."
    },
    {
      "metadata": {
        "trusted": true
      },
      "cell_type": "code",
      "source": "let maxlenwd2 word = \"wow\"",
      "execution_count": 8,
      "outputs": []
    },
    {
      "metadata": {},
      "cell_type": "markdown",
      "source": "## Сдача результата\n\nДля того, чтобы отправить результат на проверку:\n * Загрузите ноутбук как файл .ipynb\n * Переименуйте его в `TextProblem_SURNAME.ipynb` (где `SURNAME` - ваша фамилия)\n * Загрузите результат по ссылке https://forms.gle/C3NKrjdfixEMRx6R9"
    },
    {
      "metadata": {
        "trusted": false
      },
      "cell_type": "code",
      "source": "",
      "execution_count": null,
      "outputs": []
    }
  ],
  "metadata": {
    "kernelspec": {
      "name": "ifsharp",
      "display_name": "F#",
      "language": "fsharp"
    },
    "language": "fsharp",
    "language_info": {
      "mimetype": "text/x-fsharp",
      "nbconvert_exporter": "",
      "name": "fsharp",
      "pygments_lexer": "",
      "version": "4.3.1.0",
      "file_extension": ".fs",
      "codemirror_mode": ""
    }
  },
  "nbformat": 4,
  "nbformat_minor": 2
}